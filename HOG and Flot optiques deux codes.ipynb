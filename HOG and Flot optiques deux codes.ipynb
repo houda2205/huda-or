{
 "cells": [
  {
   "cell_type": "code",
   "execution_count": 1,
   "id": "59ee1a60",
   "metadata": {},
   "outputs": [
    {
     "name": "stderr",
     "output_type": "stream",
     "text": [
      "C:\\Users\\orchi\\anaconda3\\lib\\site-packages\\numpy\\_distributor_init.py:30: UserWarning: loaded more than 1 DLL from .libs:\n",
      "C:\\Users\\orchi\\anaconda3\\lib\\site-packages\\numpy\\.libs\\libopenblas.FB5AE2TYXYH2IJRDKGDGQ3XBKLKTF43H.gfortran-win_amd64.dll\n",
      "C:\\Users\\orchi\\anaconda3\\lib\\site-packages\\numpy\\.libs\\libopenblas.WCDJNK7YVMPZQ2ME2ZZHJJRJ3JIKNDB7.gfortran-win_amd64.dll\n",
      "  warnings.warn(\"loaded more than 1 DLL from .libs:\"\n"
     ]
    },
    {
     "ename": "error",
     "evalue": "OpenCV(4.7.0) D:\\a\\opencv-python\\opencv-python\\opencv\\modules\\objdetect\\src\\hog.cpp:243: error: (-215:Assertion failed) !img.empty() in function 'cv::HOGDescriptor::computeGradient'\n",
     "output_type": "error",
     "traceback": [
      "\u001b[1;31m---------------------------------------------------------------------------\u001b[0m",
      "\u001b[1;31merror\u001b[0m                                     Traceback (most recent call last)",
      "\u001b[1;32m~\\AppData\\Local\\Temp\\ipykernel_396584\\262356126.py\u001b[0m in \u001b[0;36m<module>\u001b[1;34m\u001b[0m\n\u001b[0;32m      9\u001b[0m \u001b[1;33m\u001b[0m\u001b[0m\n\u001b[0;32m     10\u001b[0m \u001b[1;31m# Calcul du HOG Descriptor\u001b[0m\u001b[1;33m\u001b[0m\u001b[1;33m\u001b[0m\u001b[0m\n\u001b[1;32m---> 11\u001b[1;33m \u001b[0mhog_features\u001b[0m \u001b[1;33m=\u001b[0m \u001b[0mhog\u001b[0m\u001b[1;33m.\u001b[0m\u001b[0mcompute\u001b[0m\u001b[1;33m(\u001b[0m\u001b[0mimage\u001b[0m\u001b[1;33m)\u001b[0m\u001b[1;33m\u001b[0m\u001b[1;33m\u001b[0m\u001b[0m\n\u001b[0m\u001b[0;32m     12\u001b[0m \u001b[1;33m\u001b[0m\u001b[0m\n\u001b[0;32m     13\u001b[0m \u001b[1;31m# Si nécessaire, redimensionner pour obtenir un vecteur 1D\u001b[0m\u001b[1;33m\u001b[0m\u001b[1;33m\u001b[0m\u001b[0m\n",
      "\u001b[1;31merror\u001b[0m: OpenCV(4.7.0) D:\\a\\opencv-python\\opencv-python\\opencv\\modules\\objdetect\\src\\hog.cpp:243: error: (-215:Assertion failed) !img.empty() in function 'cv::HOGDescriptor::computeGradient'\n"
     ]
    }
   ],
   "source": [
    "\n",
    "# HOG histogramme\n",
    "\n",
    "import cv2\n",
    "import numpy as np\n",
    "\n",
    "# Chargement de l'image en niveaux de gris\n",
    "image = cv2.imread('image.jpg', cv2.IMREAD_GRAYSCALE)\n",
    "\n",
    "# Création d'un objet HOG Descriptor\n",
    "hog = cv2.HOGDescriptor()\n",
    "\n",
    "# Calcul du HOG Descriptor\n",
    "hog_features = hog.compute(image)\n",
    "\n",
    "# Si nécessaire, redimensionner pour obtenir un vecteur 1D\n",
    "hog_features = hog_features.flatten()\n"
   ]
  },
  {
   "cell_type": "code",
   "execution_count": null,
   "id": "45efe22d",
   "metadata": {},
   "outputs": [],
   "source": [
    "# Flot optique\n",
    "\n",
    "# Charger les deux images consécutives\n",
    "frame1 = cv2.imread('chemin_vers_frame1.jpg', cv2.IMREAD_GRAYSCALE)\n",
    "frame2 = cv2.imread('chemin_vers_frame2.jpg', cv2.IMREAD_GRAYSCALE)\n",
    "\n",
    "# Calculer le flot optique\n",
    "flow = cv2.calcOpticalFlowFarneback(frame1, frame2, None, 0.5, 3, 15, 3, 5, 1.2, 0)\n",
    "\n",
    "# Le résultat 'flow' contient les vecteurs de mouvement pour chaque pixel\n",
    "# Pour l'utiliser comme caractéristique, vous pourriez calculer la magnitude et l'angle du flot\n",
    "magnitude, angle = cv2.cartToPolar(flow[..., 0], flow[..., 1])\n"
   ]
  }
 ],
 "metadata": {
  "kernelspec": {
   "display_name": "Python 3 (ipykernel)",
   "language": "python",
   "name": "python3"
  },
  "language_info": {
   "codemirror_mode": {
    "name": "ipython",
    "version": 3
   },
   "file_extension": ".py",
   "mimetype": "text/x-python",
   "name": "python",
   "nbconvert_exporter": "python",
   "pygments_lexer": "ipython3",
   "version": "3.9.13"
  }
 },
 "nbformat": 4,
 "nbformat_minor": 5
}
