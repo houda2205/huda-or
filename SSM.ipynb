{
 "cells": [
  {
   "cell_type": "code",
   "execution_count": null,
   "id": "c39cb118",
   "metadata": {},
   "outputs": [],
   "source": [
    "import numpy as np\n",
    "\n",
    "def calculate_ssm(features):\n",
    "    num_features = len(features)\n",
    "    ssm = np.zeros((num_features, num_features))\n",
    "\n",
    "    for i in range(num_features):\n",
    "        for j in range(i, num_features):  # La matrice est symétrique\n",
    "            # Calcul de la distance euclidienne\n",
    "            distance = np.linalg.norm(features[i] - features[j])\n",
    "            ssm[i, j] = distance\n",
    "            ssm[j, i] = distance  # Remplissage de la symétrie\n",
    "\n",
    "    # Normalisation optionnelle de la matrice SSM\n",
    "    # ssm = ssm / np.max(ssm)\n",
    "\n",
    "    return ssm\n",
    "\n",
    "# Supposons que `features` soit une liste de vecteurs de caractéristiques extraits des frames de la vidéo\n",
    "# features = [...]\n",
    "\n",
    "# Calcul de la SSM\n",
    "# ssm_matrix = calculate_ssm(features)\n"
   ]
  }
 ],
 "metadata": {
  "kernelspec": {
   "display_name": "Python 3 (ipykernel)",
   "language": "python",
   "name": "python3"
  },
  "language_info": {
   "codemirror_mode": {
    "name": "ipython",
    "version": 3
   },
   "file_extension": ".py",
   "mimetype": "text/x-python",
   "name": "python",
   "nbconvert_exporter": "python",
   "pygments_lexer": "ipython3",
   "version": "3.9.13"
  }
 },
 "nbformat": 4,
 "nbformat_minor": 5
}
