{
 "cells": [
  {
   "cell_type": "code",
   "execution_count": null,
   "id": "b41f9b14",
   "metadata": {},
   "outputs": [],
   "source": [
    "import numpy as np\n",
    "\n",
    "def dtw(sequence_a, sequence_b, distance_func):\n",
    "    n, m = len(sequence_a), len(sequence_b)\n",
    "    dtw_matrix = np.full((n + 1, m + 1), np.inf)\n",
    "    dtw_matrix[0, 0] = 0\n",
    "\n",
    "    for i in range(1, n + 1):\n",
    "        for j in range(1, m + 1):\n",
    "            cost = distance_func(sequence_a[i - 1], sequence_b[j - 1])\n",
    "            dtw_matrix[i, j] = cost + min(dtw_matrix[i-1, j],    # Insertion\n",
    "                                           dtw_matrix[i, j-1],    # Deletion\n",
    "                                           dtw_matrix[i-1, j-1])  # Match\n",
    "\n",
    "    return dtw_matrix[n, m], dtw_matrix\n",
    "\n",
    "# Exemple de fonction de distance\n",
    "def euclidean_distance(point1, point2):\n",
    "    return np.linalg.norm(np.array(point1) - np.array(point2))\n",
    "\n",
    "# Exemple d'utilisation de DTW\n",
    "# distance, dtw_matrix = dtw(features_video_1, features_video_2, euclidean_distance)"
   ]
  }
 ],
 "metadata": {
  "kernelspec": {
   "display_name": "Python 3 (ipykernel)",
   "language": "python",
   "name": "python3"
  },
  "language_info": {
   "codemirror_mode": {
    "name": "ipython",
    "version": 3
   },
   "file_extension": ".py",
   "mimetype": "text/x-python",
   "name": "python",
   "nbconvert_exporter": "python",
   "pygments_lexer": "ipython3",
   "version": "3.9.13"
  }
 },
 "nbformat": 4,
 "nbformat_minor": 5
}
