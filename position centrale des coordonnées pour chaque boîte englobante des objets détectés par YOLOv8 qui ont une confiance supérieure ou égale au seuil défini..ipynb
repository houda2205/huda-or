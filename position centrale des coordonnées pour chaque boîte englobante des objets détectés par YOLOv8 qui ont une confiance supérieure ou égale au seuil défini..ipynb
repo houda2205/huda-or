{
 "cells": [
  {
   "cell_type": "code",
   "execution_count": 1,
   "id": "2b51b916",
   "metadata": {},
   "outputs": [
    {
     "name": "stdout",
     "output_type": "stream",
     "text": [
      "Requirement already satisfied: ultralytics in c:\\users\\orchi\\ultralytics (8.0.6)\n",
      "Requirement already satisfied: hydra-core>=1.2.0 in c:\\users\\orchi\\anaconda3\\lib\\site-packages (from ultralytics) (1.3.1)\n",
      "Requirement already satisfied: matplotlib>=3.2.2 in c:\\users\\orchi\\anaconda3\\lib\\site-packages (from ultralytics) (3.5.2)\n",
      "Requirement already satisfied: numpy>=1.18.5 in c:\\users\\orchi\\anaconda3\\lib\\site-packages (from ultralytics) (1.23.5)\n",
      "Requirement already satisfied: opencv-python>=4.1.1 in c:\\users\\orchi\\anaconda3\\lib\\site-packages (from ultralytics) (4.7.0.68)\n",
      "Requirement already satisfied: Pillow>=7.1.2 in c:\\users\\orchi\\anaconda3\\lib\\site-packages (from ultralytics) (9.2.0)\n",
      "Requirement already satisfied: PyYAML>=5.3.1 in c:\\users\\orchi\\anaconda3\\lib\\site-packages (from ultralytics) (5.4.1)\n",
      "Requirement already satisfied: requests>=2.23.0 in c:\\users\\orchi\\anaconda3\\lib\\site-packages (from ultralytics) (2.28.1)\n",
      "Requirement already satisfied: scipy>=1.4.1 in c:\\users\\orchi\\anaconda3\\lib\\site-packages (from ultralytics) (1.9.1)\n",
      "Requirement already satisfied: torch>=1.7.0 in c:\\users\\orchi\\anaconda3\\lib\\site-packages (from ultralytics) (1.13.1)\n",
      "Requirement already satisfied: torchvision>=0.8.1 in c:\\users\\orchi\\anaconda3\\lib\\site-packages (from ultralytics) (0.14.1)\n",
      "Requirement already satisfied: tqdm>=4.64.0 in c:\\users\\orchi\\anaconda3\\lib\\site-packages (from ultralytics) (4.64.1)\n",
      "Requirement already satisfied: tensorboard>=2.4.1 in c:\\users\\orchi\\anaconda3\\lib\\site-packages (from ultralytics) (2.10.1)\n",
      "Requirement already satisfied: pandas>=1.1.4 in c:\\users\\orchi\\anaconda3\\lib\\site-packages (from ultralytics) (1.4.4)\n",
      "Requirement already satisfied: seaborn>=0.11.0 in c:\\users\\orchi\\anaconda3\\lib\\site-packages (from ultralytics) (0.11.2)\n",
      "Requirement already satisfied: ipython in c:\\users\\orchi\\anaconda3\\lib\\site-packages (from ultralytics) (7.31.1)\n",
      "Requirement already satisfied: psutil in c:\\users\\orchi\\anaconda3\\lib\\site-packages (from ultralytics) (5.9.0)\n",
      "Requirement already satisfied: thop>=0.1.1 in c:\\users\\orchi\\anaconda3\\lib\\site-packages (from ultralytics) (0.1.1.post2209072238)\n",
      "Requirement already satisfied: GitPython>=3.1.24 in c:\\users\\orchi\\anaconda3\\lib\\site-packages (from ultralytics) (3.1.30)\n",
      "Requirement already satisfied: gitdb<5,>=4.0.1 in c:\\users\\orchi\\anaconda3\\lib\\site-packages (from GitPython>=3.1.24->ultralytics) (4.0.10)\n",
      "Requirement already satisfied: packaging in c:\\users\\orchi\\anaconda3\\lib\\site-packages (from hydra-core>=1.2.0->ultralytics) (21.3)\n",
      "Requirement already satisfied: antlr4-python3-runtime==4.9.* in c:\\users\\orchi\\anaconda3\\lib\\site-packages (from hydra-core>=1.2.0->ultralytics) (4.9.3)\n",
      "Requirement already satisfied: omegaconf<2.4,>=2.2 in c:\\users\\orchi\\anaconda3\\lib\\site-packages (from hydra-core>=1.2.0->ultralytics) (2.3.0)\n",
      "Requirement already satisfied: kiwisolver>=1.0.1 in c:\\users\\orchi\\anaconda3\\lib\\site-packages (from matplotlib>=3.2.2->ultralytics) (1.4.2)\n",
      "Requirement already satisfied: fonttools>=4.22.0 in c:\\users\\orchi\\anaconda3\\lib\\site-packages (from matplotlib>=3.2.2->ultralytics) (4.25.0)\n",
      "Requirement already satisfied: cycler>=0.10 in c:\\users\\orchi\\anaconda3\\lib\\site-packages (from matplotlib>=3.2.2->ultralytics) (0.10.0)\n",
      "Requirement already satisfied: python-dateutil>=2.7 in c:\\users\\orchi\\anaconda3\\lib\\site-packages (from matplotlib>=3.2.2->ultralytics) (2.8.2)\n",
      "Requirement already satisfied: pyparsing>=2.2.1 in c:\\users\\orchi\\anaconda3\\lib\\site-packages (from matplotlib>=3.2.2->ultralytics) (2.4.7)\n",
      "Requirement already satisfied: pytz>=2020.1 in c:\\users\\orchi\\anaconda3\\lib\\site-packages (from pandas>=1.1.4->ultralytics) (2022.1)\n",
      "Requirement already satisfied: urllib3<1.27,>=1.21.1 in c:\\users\\orchi\\anaconda3\\lib\\site-packages (from requests>=2.23.0->ultralytics) (1.26.6)\n",
      "Requirement already satisfied: charset-normalizer<3,>=2 in c:\\users\\orchi\\anaconda3\\lib\\site-packages (from requests>=2.23.0->ultralytics) (2.0.4)\n",
      "Requirement already satisfied: idna<4,>=2.5 in c:\\users\\orchi\\anaconda3\\lib\\site-packages (from requests>=2.23.0->ultralytics) (2.10)\n",
      "Requirement already satisfied: certifi>=2017.4.17 in c:\\users\\orchi\\anaconda3\\lib\\site-packages (from requests>=2.23.0->ultralytics) (2022.12.7)\n",
      "Requirement already satisfied: absl-py>=0.4 in c:\\users\\orchi\\anaconda3\\lib\\site-packages (from tensorboard>=2.4.1->ultralytics) (1.4.0)\n",
      "Requirement already satisfied: werkzeug>=1.0.1 in c:\\users\\orchi\\anaconda3\\lib\\site-packages (from tensorboard>=2.4.1->ultralytics) (2.0.3)\n",
      "Requirement already satisfied: google-auth-oauthlib<0.5,>=0.4.1 in c:\\users\\orchi\\anaconda3\\lib\\site-packages (from tensorboard>=2.4.1->ultralytics) (0.4.6)\n",
      "Requirement already satisfied: wheel>=0.26 in c:\\users\\orchi\\anaconda3\\lib\\site-packages (from tensorboard>=2.4.1->ultralytics) (0.37.1)\n",
      "Requirement already satisfied: protobuf<3.20,>=3.9.2 in c:\\users\\orchi\\anaconda3\\lib\\site-packages (from tensorboard>=2.4.1->ultralytics) (3.19.6)\n",
      "Requirement already satisfied: tensorboard-plugin-wit>=1.6.0 in c:\\users\\orchi\\anaconda3\\lib\\site-packages (from tensorboard>=2.4.1->ultralytics) (1.8.1)\n",
      "Requirement already satisfied: grpcio>=1.24.3 in c:\\users\\orchi\\anaconda3\\lib\\site-packages (from tensorboard>=2.4.1->ultralytics) (1.53.0)\n",
      "Requirement already satisfied: google-auth<3,>=1.6.3 in c:\\users\\orchi\\anaconda3\\lib\\site-packages (from tensorboard>=2.4.1->ultralytics) (2.15.0)\n",
      "Requirement already satisfied: setuptools>=41.0.0 in c:\\users\\orchi\\anaconda3\\lib\\site-packages (from tensorboard>=2.4.1->ultralytics) (63.4.1)\n",
      "Requirement already satisfied: tensorboard-data-server<0.7.0,>=0.6.0 in c:\\users\\orchi\\anaconda3\\lib\\site-packages (from tensorboard>=2.4.1->ultralytics) (0.6.1)\n",
      "Requirement already satisfied: markdown>=2.6.8 in c:\\users\\orchi\\anaconda3\\lib\\site-packages (from tensorboard>=2.4.1->ultralytics) (3.3.4)\n",
      "Requirement already satisfied: typing_extensions in c:\\users\\orchi\\anaconda3\\lib\\site-packages (from torch>=1.7.0->ultralytics) (4.3.0)\n",
      "Requirement already satisfied: colorama in c:\\users\\orchi\\anaconda3\\lib\\site-packages (from tqdm>=4.64.0->ultralytics) (0.4.5)\n",
      "Requirement already satisfied: backcall in c:\\users\\orchi\\anaconda3\\lib\\site-packages (from ipython->ultralytics) (0.2.0)\n",
      "Requirement already satisfied: jedi>=0.16 in c:\\users\\orchi\\anaconda3\\lib\\site-packages (from ipython->ultralytics) (0.18.1)\n",
      "Requirement already satisfied: decorator in c:\\users\\orchi\\anaconda3\\lib\\site-packages (from ipython->ultralytics) (4.4.2)\n",
      "Requirement already satisfied: prompt-toolkit!=3.0.0,!=3.0.1,<3.1.0,>=2.0.0 in c:\\users\\orchi\\anaconda3\\lib\\site-packages (from ipython->ultralytics) (3.0.20)\n",
      "Requirement already satisfied: pickleshare in c:\\users\\orchi\\anaconda3\\lib\\site-packages (from ipython->ultralytics) (0.7.5)\n",
      "Requirement already satisfied: matplotlib-inline in c:\\users\\orchi\\anaconda3\\lib\\site-packages (from ipython->ultralytics) (0.1.6)\n",
      "Requirement already satisfied: pygments in c:\\users\\orchi\\anaconda3\\lib\\site-packages (from ipython->ultralytics) (2.11.2)\n",
      "Requirement already satisfied: traitlets>=4.2 in c:\\users\\orchi\\anaconda3\\lib\\site-packages (from ipython->ultralytics) (5.1.1)\n",
      "Requirement already satisfied: six in c:\\users\\orchi\\anaconda3\\lib\\site-packages (from cycler>=0.10->matplotlib>=3.2.2->ultralytics) (1.16.0)\n",
      "Requirement already satisfied: smmap<6,>=3.0.1 in c:\\users\\orchi\\anaconda3\\lib\\site-packages (from gitdb<5,>=4.0.1->GitPython>=3.1.24->ultralytics) (5.0.0)\n",
      "Requirement already satisfied: pyasn1-modules>=0.2.1 in c:\\users\\orchi\\anaconda3\\lib\\site-packages (from google-auth<3,>=1.6.3->tensorboard>=2.4.1->ultralytics) (0.2.8)\n",
      "Requirement already satisfied: rsa<5,>=3.1.4 in c:\\users\\orchi\\anaconda3\\lib\\site-packages (from google-auth<3,>=1.6.3->tensorboard>=2.4.1->ultralytics) (4.9)\n",
      "Requirement already satisfied: cachetools<6.0,>=2.0.0 in c:\\users\\orchi\\anaconda3\\lib\\site-packages (from google-auth<3,>=1.6.3->tensorboard>=2.4.1->ultralytics) (5.2.0)\n",
      "Requirement already satisfied: requests-oauthlib>=0.7.0 in c:\\users\\orchi\\anaconda3\\lib\\site-packages (from google-auth-oauthlib<0.5,>=0.4.1->tensorboard>=2.4.1->ultralytics) (1.3.1)\n",
      "Requirement already satisfied: parso<0.9.0,>=0.8.0 in c:\\users\\orchi\\anaconda3\\lib\\site-packages (from jedi>=0.16->ipython->ultralytics) (0.8.3)\n",
      "Requirement already satisfied: wcwidth in c:\\users\\orchi\\anaconda3\\lib\\site-packages (from prompt-toolkit!=3.0.0,!=3.0.1,<3.1.0,>=2.0.0->ipython->ultralytics) (0.2.5)\n",
      "Requirement already satisfied: pyasn1<0.5.0,>=0.4.6 in c:\\users\\orchi\\anaconda3\\lib\\site-packages (from pyasn1-modules>=0.2.1->google-auth<3,>=1.6.3->tensorboard>=2.4.1->ultralytics) (0.4.8)\n",
      "Requirement already satisfied: oauthlib>=3.0.0 in c:\\users\\orchi\\anaconda3\\lib\\site-packages (from requests-oauthlib>=0.7.0->google-auth-oauthlib<0.5,>=0.4.1->tensorboard>=2.4.1->ultralytics) (3.2.2)\n"
     ]
    },
    {
     "name": "stderr",
     "output_type": "stream",
     "text": [
      "WARNING: Ignoring invalid distribution -rotobuf (c:\\users\\orchi\\anaconda3\\lib\\site-packages)\n",
      "WARNING: Ignoring invalid distribution -rotobuf (c:\\users\\orchi\\anaconda3\\lib\\site-packages)\n",
      "WARNING: Ignoring invalid distribution -rotobuf (c:\\users\\orchi\\anaconda3\\lib\\site-packages)\n",
      "WARNING: Ignoring invalid distribution -rotobuf (c:\\users\\orchi\\anaconda3\\lib\\site-packages)\n",
      "WARNING: Ignoring invalid distribution -rotobuf (c:\\users\\orchi\\anaconda3\\lib\\site-packages)\n",
      "WARNING: Ignoring invalid distribution -rotobuf (c:\\users\\orchi\\anaconda3\\lib\\site-packages)\n"
     ]
    }
   ],
   "source": [
    "!pip install ultralytics\n"
   ]
  },
  {
   "cell_type": "code",
   "execution_count": 2,
   "id": "81a54c6c",
   "metadata": {},
   "outputs": [
    {
     "name": "stderr",
     "output_type": "stream",
     "text": [
      "C:\\Users\\orchi\\anaconda3\\lib\\site-packages\\numpy\\_distributor_init.py:30: UserWarning: loaded more than 1 DLL from .libs:\n",
      "C:\\Users\\orchi\\anaconda3\\lib\\site-packages\\numpy\\.libs\\libopenblas.FB5AE2TYXYH2IJRDKGDGQ3XBKLKTF43H.gfortran-win_amd64.dll\n",
      "C:\\Users\\orchi\\anaconda3\\lib\\site-packages\\numpy\\.libs\\libopenblas.WCDJNK7YVMPZQ2ME2ZZHJJRJ3JIKNDB7.gfortran-win_amd64.dll\n",
      "  warnings.warn(\"loaded more than 1 DLL from .libs:\"\n"
     ]
    }
   ],
   "source": [
    "from ultralytics import YOLO\n"
   ]
  },
  {
   "cell_type": "code",
   "execution_count": 4,
   "id": "7f266dc7",
   "metadata": {},
   "outputs": [],
   "source": [
    "model = YOLO('yolov8n.pt')  # "
   ]
  },
  {
   "cell_type": "code",
   "execution_count": 5,
   "id": "ee3fe81a",
   "metadata": {},
   "outputs": [
    {
     "name": "stderr",
     "output_type": "stream",
     "text": [
      "Ultralytics YOLOv8.0.6  Python-3.9.13 torch-1.13.1 CUDA:0 (NVIDIA GeForce RTX 3080 Laptop GPU, 8192MiB)\n",
      "Fusing layers... \n",
      "YOLOv8n summary: 168 layers, 3151904 parameters, 0 gradients, 8.7 GFLOPs\n",
      "image 1/1 C:\\Users\\orchi\\datasets\\roboflow\\test\\images\\IC1-08nov-TGI-Hazel-Jennie-Spring_mp4-0177_jpg.rf.c69514026d011246cdde8076972efe84.jpg: 384x640 11 cows, 51.8ms\n",
      "Speed: 2.0ms pre-process, 51.8ms inference, 40.2ms postprocess per image at shape (1, 3, 640, 640)\n"
     ]
    }
   ],
   "source": [
    " #Chemin vers l'image de test\n",
    "image_path = \"C:\\\\Users\\\\orchi\\\\datasets\\\\roboflow\\\\test\\\\images\\\\IC1-08nov-TGI-Hazel-Jennie-Spring_mp4-0177_jpg.rf.c69514026d011246cdde8076972efe84.jpg\"\n",
    "\n",
    "# Effectuer l'inférence sur l'image\n",
    "results = model(image_path)\n"
   ]
  },
  {
   "cell_type": "code",
   "execution_count": 6,
   "id": "4439c886",
   "metadata": {},
   "outputs": [
    {
     "name": "stderr",
     "output_type": "stream",
     "text": [
      "Ultralytics YOLOv8.0.6  Python-3.9.13 torch-1.13.1 CUDA:0 (NVIDIA GeForce RTX 3080 Laptop GPU, 8192MiB)\n",
      "Fusing layers... \n",
      "YOLOv8n summary: 168 layers, 3151904 parameters, 0 gradients\n",
      "image 1/1 C:\\Users\\orchi\\datasets\\roboflow\\test\\images\\IC1-08nov-TGI-Hazel-Jennie-Spring_mp4-0177_jpg.rf.c69514026d011246cdde8076972efe84.jpg: 384x640 11 cows, 12.6ms\n",
      "Speed: 1.4ms pre-process, 12.6ms inference, 2.0ms postprocess per image at shape (1, 3, 640, 640)\n"
     ]
    }
   ],
   "source": [
    "# Effectuer l'inférence sur l'image\n",
    "results = model(image_path)"
   ]
  },
  {
   "cell_type": "code",
   "execution_count": 9,
   "id": "f9da6d46",
   "metadata": {},
   "outputs": [
    {
     "name": "stderr",
     "output_type": "stream",
     "text": [
      "Ultralytics YOLOv8.0.6  Python-3.9.13 torch-1.13.1 CUDA:0 (NVIDIA GeForce RTX 3080 Laptop GPU, 8192MiB)\n",
      "Fusing layers... \n",
      "YOLOv8n summary: 168 layers, 3151904 parameters, 0 gradients\n",
      "image 1/1 C:\\Users\\orchi\\datasets\\roboflow\\test\\images\\IC1-08nov-TGI-Hazel-Jennie-Spring_mp4-0177_jpg.rf.c69514026d011246cdde8076972efe84.jpg: 384x640 11 cows, 12.9ms\n",
      "Speed: 2.3ms pre-process, 12.9ms inference, 2.8ms postprocess per image at shape (1, 3, 640, 640)\n"
     ]
    },
    {
     "name": "stdout",
     "output_type": "stream",
     "text": [
      "Une erreur est survenue : 'NoneType' object has no attribute 'show'\n"
     ]
    }
   ],
   "source": [
    "try:\n",
    "    results = model(image_path)\n",
    "    results.show()\n",
    "except Exception as e:\n",
    "    print(f\"Une erreur est survenue : {e}\")\n"
   ]
  },
  {
   "cell_type": "code",
   "execution_count": 11,
   "id": "66f24798",
   "metadata": {},
   "outputs": [],
   "source": [
    "\n",
    "# position centrale des coordonnées pour chaque boîte englobante des objets détectés par YOLOv8 qui ont une confiance supérieure ou égale au seuil défini."
   ]
  },
  {
   "cell_type": "code",
   "execution_count": null,
   "id": "6157f77c",
   "metadata": {},
   "outputs": [],
   "source": [
    "import cv2\n",
    "import torch\n",
    "\n",
    "# Définir un seuil de confiance\n",
    "SEUIL_CONF = 0.6  # Vous pouvez ajuster cette valeur\n",
    "\n",
    "# Charger le modèle YOLOv8 pré-entraîné\n",
    "model = torch.hub.load('ultralytics/yolov8', 'yolov8')  # Assurez-vous d'avoir le bon nom de modèle\n",
    "\n",
    "# Charger une image\n",
    "img = cv2.imread('path/to/your/image.jpg')\n",
    "\n",
    "# Effectuer la détection\n",
    "results = model(img)\n",
    "\n",
    "# Récupérer les prédictions\n",
    "predictions = results.pred[0]\n",
    "\n",
    "# Filtrer les prédictions avec le seuil de confiance et appliquer NMS\n",
    "for *box, conf, cls in predictions:\n",
    "    if conf >= SEUIL_CONF:  # Appliquer le seuil de confiance\n",
    "        # Calculer les coordonnées du centre (x, y)\n",
    "        x_center = (box[0] + box[2]) / 2\n",
    "        y_center = (box[1] + box[3]) / 2\n",
    "        \n",
    "        print(f\"Objet détecté de classe {cls} avec confiance {conf:.2f} au centre ({x_center:.2f}, {y_center:.2f})\")\n"
   ]
  }
 ],
 "metadata": {
  "kernelspec": {
   "display_name": "Python 3 (ipykernel)",
   "language": "python",
   "name": "python3"
  },
  "language_info": {
   "codemirror_mode": {
    "name": "ipython",
    "version": 3
   },
   "file_extension": ".py",
   "mimetype": "text/x-python",
   "name": "python",
   "nbconvert_exporter": "python",
   "pygments_lexer": "ipython3",
   "version": "3.9.13"
  }
 },
 "nbformat": 4,
 "nbformat_minor": 5
}
