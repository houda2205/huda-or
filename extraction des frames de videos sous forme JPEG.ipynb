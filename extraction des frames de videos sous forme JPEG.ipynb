{
 "cells": [
  {
   "cell_type": "code",
   "execution_count": 3,
   "id": "68fc6f39",
   "metadata": {},
   "outputs": [
    {
     "ename": "error",
     "evalue": "OpenCV(4.7.0) D:\\a\\opencv-python\\opencv-python\\opencv\\modules\\highgui\\src\\window.cpp:1266: error: (-2:Unspecified error) The function is not implemented. Rebuild the library with Windows, GTK+ 2.x or Cocoa support. If you are on Ubuntu or Debian, install libgtk2.0-dev and pkg-config, then re-run cmake or configure script in function 'cvDestroyAllWindows'\n",
     "output_type": "error",
     "traceback": [
      "\u001b[1;31m---------------------------------------------------------------------------\u001b[0m",
      "\u001b[1;31merror\u001b[0m                                     Traceback (most recent call last)",
      "\u001b[1;32m~\\AppData\\Local\\Temp\\ipykernel_140472\\581305487.py\u001b[0m in \u001b[0;36m<module>\u001b[1;34m\u001b[0m\n\u001b[0;32m     36\u001b[0m \u001b[1;31m# Release video capture and close windows\u001b[0m\u001b[1;33m\u001b[0m\u001b[1;33m\u001b[0m\u001b[0m\n\u001b[0;32m     37\u001b[0m \u001b[0mcap\u001b[0m\u001b[1;33m.\u001b[0m\u001b[0mrelease\u001b[0m\u001b[1;33m(\u001b[0m\u001b[1;33m)\u001b[0m\u001b[1;33m\u001b[0m\u001b[1;33m\u001b[0m\u001b[0m\n\u001b[1;32m---> 38\u001b[1;33m \u001b[0mcv2\u001b[0m\u001b[1;33m.\u001b[0m\u001b[0mdestroyAllWindows\u001b[0m\u001b[1;33m(\u001b[0m\u001b[1;33m)\u001b[0m\u001b[1;33m\u001b[0m\u001b[1;33m\u001b[0m\u001b[0m\n\u001b[0m\u001b[0;32m     39\u001b[0m \u001b[1;33m\u001b[0m\u001b[0m\n\u001b[0;32m     40\u001b[0m \u001b[0mprint\u001b[0m\u001b[1;33m(\u001b[0m\u001b[1;34mf\"Extracted frames: {saved_frame_count}\"\u001b[0m\u001b[1;33m)\u001b[0m\u001b[1;33m\u001b[0m\u001b[1;33m\u001b[0m\u001b[0m\n",
      "\u001b[1;31merror\u001b[0m: OpenCV(4.7.0) D:\\a\\opencv-python\\opencv-python\\opencv\\modules\\highgui\\src\\window.cpp:1266: error: (-2:Unspecified error) The function is not implemented. Rebuild the library with Windows, GTK+ 2.x or Cocoa support. If you are on Ubuntu or Debian, install libgtk2.0-dev and pkg-config, then re-run cmake or configure script in function 'cvDestroyAllWindows'\n"
     ]
    }
   ],
   "source": [
    "import cv2\n",
    "import os\n",
    "\n",
    "# Video path\n",
    "video_path = \"C:\\\\Users\\\\orchi\\\\OneDrive\\\\Bureau\\\\videos de well-E dataset\\\\timestamped\\\\IC\\\\IC4\\\\IC4-O\\\\IC4-TGO-08nov-Beatrice-Tori-Isabella.mp4\"\n",
    "\n",
    "# Output folder for extracted frames\n",
    "output_folder = \"C:\\\\Users\\\\orchi\\\\OneDrive\\\\Bureau\\\\videos de well-E dataset\\\\extracted frames\"\n",
    "if not os.path.exists(output_folder):\n",
    "    os.makedirs(output_folder)\n",
    "\n",
    "# Open the video\n",
    "cap = cv2.VideoCapture(video_path)\n",
    "\n",
    "# Get video frame rate\n",
    "fps = cap.get(cv2.CAP_PROP_FPS)\n",
    "\n",
    "# Frame extraction frequency\n",
    "extract_frequency = 2 * fps  # Extract every 6 seconds\n",
    "\n",
    "frame_count = 0\n",
    "saved_frame_count = 0\n",
    "\n",
    "while True:\n",
    "    ret, frame = cap.read()\n",
    "    if not ret:\n",
    "        break  # Exit loop if no more frames\n",
    "\n",
    "    # Save frame every 2 seconds\n",
    "    if frame_count % extract_frequency == 0:\n",
    "        cv2.imwrite(os.path.join(output_folder, f\"frame_{saved_frame_count:04d}.jpg\"), frame)\n",
    "        saved_frame_count += 1\n",
    "\n",
    "    frame_count += 1\n",
    "\n",
    "# Release video capture and close windows\n",
    "cap.release()\n",
    "cv2.destroyAllWindows()\n",
    "\n",
    "print(f\"Extracted frames: {saved_frame_count}\")\n",
    "\n"
   ]
  },
  {
   "cell_type": "code",
   "execution_count": 5,
   "id": "6f556876",
   "metadata": {},
   "outputs": [
    {
     "name": "stdout",
     "output_type": "stream",
     "text": [
      "Extracted frames: 1\n"
     ]
    }
   ],
   "source": [
    "import cv2\n",
    "import os\n",
    "\n",
    "# Video path\n",
    "video_path = \"C:\\\\Users\\\\orchi\\\\OneDrive\\\\Bureau\\\\videos de well-E dataset\\\\timestamped\\\\IC\\\\IC4\\\\IC4-O\\\\IC4-TGO-08nov-Beatrice-Tori-Isabella.mp4\"\n",
    "\n",
    "# Output folder for extracted frames\n",
    "output_folder = \"C:\\\\Users\\\\orchi\\\\OneDrive\\\\Bureau\\\\videos de well-E dataset\\\\extracted frames\"\n",
    "if not os.path.exists(output_folder):\n",
    "    os.makedirs(output_folder)\n",
    "\n",
    "# Open the video\n",
    "cap = cv2.VideoCapture(video_path)\n",
    "\n",
    "# Get video frame rate\n",
    "fps = cap.get(cv2.CAP_PROP_FPS)\n",
    "\n",
    "# Frame extraction frequency\n",
    "extract_frequency = 6 * fps  # Extract every 6 seconds\n",
    "\n",
    "frame_count = 0\n",
    "saved_frame_count = 0\n",
    "\n",
    "while True:\n",
    "    ret, frame = cap.read()\n",
    "    if not ret:\n",
    "        break  # Exit loop if no more frames\n",
    "\n",
    "    # Save frame every 6 seconds\n",
    "    if frame_count % extract_frequency == 0:\n",
    "        cv2.imwrite(os.path.join(output_folder, f\"frame_{saved_frame_count:04d}.jpg\"), frame)\n",
    "        saved_frame_count += 1\n",
    "\n",
    "    frame_count += 1\n",
    "\n",
    "# Release video capture and close windows\n",
    "cap.release()\n",
    "#cv2.destroyAllWindows()\n",
    "\n",
    "print(f\"Extracted frames: {saved_frame_count}\")\n"
   ]
  },
  {
   "cell_type": "code",
   "execution_count": 8,
   "id": "dc652935",
   "metadata": {},
   "outputs": [
    {
     "name": "stdout",
     "output_type": "stream",
     "text": [
      "Frames extraites : 34\n"
     ]
    }
   ],
   "source": [
    "import cv2\n",
    "import os\n",
    "\n",
    "# Chemin de la vidéo\n",
    "video_path = \"C:\\\\Users\\\\orchi\\\\OneDrive\\\\Bureau\\\\videos de well-E dataset\\\\timestamped\\\\IC\\\\IC4\\\\IC4-O\\\\IC4-TGO-08nov-Beatrice-Tori-Isabella.mp4\"\n",
    "\n",
    "# Dossier de sortie pour les frames extraites\n",
    "output_folder = \"C:\\\\Users\\\\orchi\\\\OneDrive\\\\Bureau\\\\videos de well-E dataset\\\\extracted frames\"\n",
    "if not os.path.exists(output_folder):\n",
    "    os.makedirs(output_folder)\n",
    "\n",
    "# Ouvrir la vidéo\n",
    "cap = cv2.VideoCapture(video_path)\n",
    "\n",
    "# Obtenir le taux de FPS de la vidéo\n",
    "fps = cap.get(cv2.CAP_PROP_FPS)\n",
    "\n",
    "# Fréquence d'extraction des frames, toutes les 2 secondes\n",
    "extract_frequency = int(2 * fps)  # Conversion en int pour éviter les problèmes de type\n",
    "\n",
    "frame_count = 0\n",
    "saved_frame_count = 0\n",
    "\n",
    "while True:\n",
    "    ret, frame = cap.read()\n",
    "    if not ret:\n",
    "        break  # Sortir de la boucle si plus de frames\n",
    "\n",
    "    # Sauvegarder une frame toutes les 2 secondes\n",
    "    if frame_count % extract_frequency == 0:\n",
    "        frame_filename = os.path.join(output_folder, f\"frame_{saved_frame_count:04d}.jpg\")\n",
    "        cv2.imwrite(frame_filename, frame)\n",
    "        saved_frame_count += 1\n",
    "\n",
    "    frame_count += 1\n",
    "\n",
    "# Libérer la capture vidéo\n",
    "cap.release()\n",
    "\n",
    "print(f\"Frames extraites : {saved_frame_count}\")\n"
   ]
  },
  {
   "cell_type": "code",
   "execution_count": null,
   "id": "3f9ac601",
   "metadata": {},
   "outputs": [],
   "source": []
  }
 ],
 "metadata": {
  "kernelspec": {
   "display_name": "Python 3 (ipykernel)",
   "language": "python",
   "name": "python3"
  },
  "language_info": {
   "codemirror_mode": {
    "name": "ipython",
    "version": 3
   },
   "file_extension": ".py",
   "mimetype": "text/x-python",
   "name": "python",
   "nbconvert_exporter": "python",
   "pygments_lexer": "ipython3",
   "version": "3.9.13"
  }
 },
 "nbformat": 4,
 "nbformat_minor": 5
}
